{
 "cells": [
  {
   "cell_type": "code",
   "execution_count": null,
   "id": "6dedfc5b-3989-4f87-922c-59874fda0770",
   "metadata": {},
   "outputs": [],
   "source": [
    "#!/usr/bin/env python3\n",
    "#coding=utf-8\n",
    "import time\n",
    "from Transbot_Lib import Transbot"
   ]
  },
  {
   "cell_type": "code",
   "execution_count": null,
   "id": "55d5545c-818f-4da6-8e51-ea10d7d1b1d4",
   "metadata": {},
   "outputs": [],
   "source": [
    "# 创建Transbot对象 bot\n",
    "# Create Transbot object as bot\n",
    "bot = Transbot()"
   ]
  },
  {
   "cell_type": "code",
   "execution_count": null,
   "id": "74be1a81-9797-40b5-b5c8-2d3875df92eb",
   "metadata": {},
   "outputs": [],
   "source": [
    "# 蜂鸣器自动响100毫秒后关闭\n",
    "# 蜂鸣器开关，on_time=0：关闭，on_time=1：一直响，\n",
    "# on_time>=10：响xx毫秒后自动关闭（on_time是10的倍数）。\n",
    "# The buzzer automatically beeps for 100 milliseconds before turning off\n",
    "# Buzzer switch. On_time =0: the buzzer is off. On_time =1: the buzzer keeps ringing  \n",
    "# On_time >=10: automatically closes after xx milliseconds (on_time is a multiple of 10) \n",
    "on_time = 100\n",
    "bot.set_beep(on_time)\n",
    "# 延迟退出cell\n",
    "# Delayed exit cell\n",
    "time.sleep(1) "
   ]
  },
  {
   "cell_type": "code",
   "execution_count": null,
   "id": "5d62330c-47c8-43f8-94d3-aae2cb8dbfc5",
   "metadata": {},
   "outputs": [],
   "source": [
    "# 蜂鸣器自动响300毫秒后关闭\n",
    "# The buzzer automatically beeps for 300 milliseconds before turning off\n",
    "on_time = 300\n",
    "bot.set_beep(on_time)\n",
    "time.sleep(1)"
   ]
  },
  {
   "cell_type": "code",
   "execution_count": null,
   "id": "8bbf5425-883c-42c2-82b2-591b2f98167a",
   "metadata": {},
   "outputs": [],
   "source": [
    "# 蜂鸣器一直响\n",
    "# Turn on the buzzer and keep ringing\n",
    "on_time = 1\n",
    "bot.set_beep(on_time)\n",
    "time.sleep(1)"
   ]
  },
  {
   "cell_type": "code",
   "execution_count": null,
   "id": "88cd5eb7-4c6a-4576-90c8-40997dcab1da",
   "metadata": {},
   "outputs": [],
   "source": [
    "# 蜂鸣器关闭\n",
    "# Turn off the buzzer\n",
    "on_time = 0\n",
    "bot.set_beep(on_time)\n",
    "time.sleep(1)"
   ]
  },
  {
   "cell_type": "code",
   "execution_count": null,
   "id": "fac9dbc2-07bb-4889-87d0-2f319a592343",
   "metadata": {},
   "outputs": [],
   "source": [
    "# 程序结束后请删除transbot对象，避免在其他程序中使用transbot库造成冲突\n",
    "# After the program is complete, delete the Transbot object to avoid conflicts caused by using the Transbot library in other programs\n",
    "del bot"
   ]
  },
  {
   "cell_type": "code",
   "execution_count": null,
   "id": "60b7a05d-2c67-4ce0-9994-7ad4d4bf48c4",
   "metadata": {},
   "outputs": [],
   "source": []
  },
  {
   "cell_type": "markdown",
   "id": "bdeb748e-c7eb-44c2-9f9a-220f905d6eb0",
   "metadata": {},
   "source": [
    "#### 下方的内容不需要使用Transbot库，只演示如何控制主控板的GPIO输入与输出。\n",
    "#### 功能：通过按键K1控制WIFI LED灯，按下按键K1时WIFI LED点亮，松开手WIFI LED熄灭。\n",
    "#### 运行前请务必关闭大程序，否则会造成冲突。"
   ]
  },
  {
   "cell_type": "markdown",
   "metadata": {},
   "source": [
    "#### The content below this cell does not require the Use of the Transbot library, but demonstrates how to control THE GPIO input and output of the MPU.  \n",
    "#### function: control WIFI LED light by pressing K1, WIFI LED lights up when pressing K1, WIFI LED lights out when releasing hand.  \n",
    "#### Close large programs before running; otherwise, conflicts may occur.  "
   ]
  },
  {
   "cell_type": "code",
   "execution_count": null,
   "id": "8936cad8-bf35-4e9a-ba66-31e4c786bed5",
   "metadata": {},
   "outputs": [],
   "source": [
    "# 导入主板的GPIO口控制库\n",
    "# Import the GPIO port control library on the motherboard\n",
    "import RPi.GPIO as GPIO"
   ]
  },
  {
   "cell_type": "code",
   "execution_count": null,
   "id": "d08d2863-294f-4e31-8bd3-055c2ededb77",
   "metadata": {},
   "outputs": [],
   "source": [
    "KEY1_PIN = 17\n",
    "LED_PIN = 18\n",
    "\n",
    "GPIO.setmode(GPIO.BCM)\n",
    "GPIO.setwarnings(False)\n",
    "GPIO.setup(KEY1_PIN, GPIO.IN)\n",
    "GPIO.setup(LED_PIN, GPIO.OUT, initial = GPIO.HIGH)"
   ]
  },
  {
   "cell_type": "code",
   "execution_count": null,
   "id": "7e73a51a-beb5-4fb0-ba25-5f3f966d6eb3",
   "metadata": {},
   "outputs": [],
   "source": [
    "# 扫描按键K1，按下按键点亮LED，松开按键关闭LED\n",
    "# Scan key K1, press the key to turn on the LED, release the key to turn off the LED\n",
    "def key_scan():\n",
    "    if GPIO.input(KEY1_PIN) == GPIO.LOW:\n",
    "        time.sleep(0.05)\n",
    "        if GPIO.input(KEY1_PIN) == GPIO.LOW:\n",
    "            GPIO.output(LED_PIN, GPIO.HIGH)\n",
    "            print(\"key1_pressed\")\n",
    "    else:\n",
    "        GPIO.output(LED_PIN, GPIO.LOW)"
   ]
  },
  {
   "cell_type": "code",
   "execution_count": null,
   "id": "30d5ffe4-d4f2-4aa6-99db-daab3479be90",
   "metadata": {},
   "outputs": [],
   "source": [
    "# 捕获按键退出程序。\n",
    "# Capture key exit program.\n",
    "try:\n",
    "    while True:\n",
    "        key_scan()\n",
    "except KeyboardInterrupt:\n",
    "    print(\" Program closed! \")\n",
    "    pass\n"
   ]
  },
  {
   "cell_type": "code",
   "execution_count": null,
   "id": "bebd40ba-9b15-416e-be5a-3dc201a91aac",
   "metadata": {},
   "outputs": [],
   "source": []
  }
 ],
 "metadata": {
  "kernelspec": {
   "display_name": "Python 3",
   "language": "python",
   "name": "python3"
  },
  "language_info": {
   "codemirror_mode": {
    "name": "ipython",
    "version": 3
   },
   "file_extension": ".py",
   "mimetype": "text/x-python",
   "name": "python",
   "nbconvert_exporter": "python",
   "pygments_lexer": "ipython3",
   "version": "3.6.9"
  }
 },
 "nbformat": 4,
 "nbformat_minor": 5
}
