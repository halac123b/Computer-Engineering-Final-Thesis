{
 "cells": [
  {
   "cell_type": "code",
   "execution_count": null,
   "id": "5ac6e98b-cc7c-4473-af5c-de50da6d88b8",
   "metadata": {},
   "outputs": [],
   "source": [
    "#!/usr/bin/env python3\n",
    "#coding=utf-8\n",
    "import time\n",
    "from Transbot_Lib import Transbot\n",
    "from ipywidgets import interact\n",
    "import ipywidgets as widgets"
   ]
  },
  {
   "cell_type": "code",
   "execution_count": null,
   "id": "a61e4c10-6650-47e0-bd01-9dada327fd21",
   "metadata": {},
   "outputs": [],
   "source": [
    "# 创建Transbot对象 bot\n",
    "# Create Transbot object as bot\n",
    "bot = Transbot()\n"
   ]
  },
  {
   "cell_type": "code",
   "execution_count": null,
   "id": "7efe37e8-a23c-419f-b7b0-a26df2f2f185",
   "metadata": {},
   "outputs": [],
   "source": [
    "# 启动接收数据，只能启动一次，所有读取数据的功能都是基于此方法\n",
    "# Start to receive data, can only start once, all read data function is based on this method  \n",
    "bot.create_receive_threading()"
   ]
  },
  {
   "cell_type": "markdown",
   "id": "47635173-358d-4c3c-b560-f11fcc94f937",
   "metadata": {},
   "source": [
    "## 自动上报数据开关"
   ]
  },
  {
   "cell_type": "code",
   "execution_count": null,
   "id": "4e7916db-565c-497e-b33c-b71027922c34",
   "metadata": {},
   "outputs": [],
   "source": [
    "# 开启自动发送数据\n",
    "# enable=True，底层扩展板会每隔40毫秒发送一次数据。enable=False，则不发送。\n",
    "# forever=True永久保存，=False临时作用。\n",
    "# Enable automatic data sending  \n",
    "# enable=True, the underlying expansion board will send data every 40 milliseconds.  If enable=False, the port is not sent.  \n",
    "# forever=True for permanent, =False for temporary.  \n",
    "enable = True\n",
    "bot.set_auto_report_state(enable, forever=False)"
   ]
  },
  {
   "cell_type": "code",
   "execution_count": null,
   "id": "4dc7373a-ce81-4909-b80a-3dc636a4de24",
   "metadata": {},
   "outputs": [],
   "source": [
    "# 关闭自动发送数据\n",
    "# enable=True，底层扩展板会每隔40毫秒发送一次数据。enable=False，则不发送。\n",
    "# forever=True永久保存，=False临时作用。\n",
    "# Disable automatic sending of data  \n",
    "# enable=True, the underlying expansion board will send data every 40 milliseconds.  If enable=False, the port is not sent.  \n",
    "# forever=True for permanent, =False for temporary.  \n",
    "enable = False\n",
    "bot.set_auto_report_state(enable, forever=False)"
   ]
  },
  {
   "cell_type": "code",
   "execution_count": null,
   "id": "6e0b77bb-fe93-4e58-9954-979fc432beed",
   "metadata": {},
   "outputs": [],
   "source": [
    "# 清除单片机自动发送过来的缓存数据\n",
    "# Clear the cache data automatically sent by the MCU\n",
    "bot.clear_auto_report_data()"
   ]
  },
  {
   "cell_type": "markdown",
   "id": "fc26a1f9-7e81-4040-aee2-b9b80b38a075",
   "metadata": {},
   "source": [
    "## 小车控制速度相关参数设置\n",
    "## Set parameters related to car control speed"
   ]
  },
  {
   "cell_type": "code",
   "execution_count": null,
   "id": "649029f5-902c-42aa-a226-bb57cbd5d148",
   "metadata": {},
   "outputs": [],
   "source": [
    "# 控制电机运动\n",
    "# Control motor movement\n",
    "def car_motion(line, angular):\n",
    "    # 为了避免电机死区，这里增加了判断条件。\n",
    "    # In order to avoid motor dead zone, the judgment condition is added here\n",
    "    if abs(line) >= 5 or abs(angular) >= 10:\n",
    "        speed_l = line / 100.0\n",
    "        speed_a = angular / 100.0\n",
    "        bot.set_car_motion(speed_l, speed_a)\n",
    "        return speed_l, speed_a\n",
    "    else:\n",
    "        bot.set_car_motion(0, 0)\n",
    "        return 0, 0\n",
    "\n",
    "# 创建两个滑块来控制小车的线速度和角速度\n",
    "# Create two sliders to control the linear and angular velocity of the car\n",
    "interact(car_motion, line=widgets.IntSlider(min=-45,max=45,step=1,value=0), \\\n",
    "         angular=widgets.IntSlider(min=-200,max=200,step=1,value=0));\n"
   ]
  },
  {
   "cell_type": "code",
   "execution_count": null,
   "id": "ce20522b-9a67-46d2-9fe4-b52b9256511e",
   "metadata": {},
   "outputs": [],
   "source": [
    "# 停止运动 \n",
    "# stop motion\n",
    "bot.set_car_motion(0, 0)"
   ]
  },
  {
   "cell_type": "code",
   "execution_count": null,
   "id": "f770cb75-18d4-459c-b2d7-91410e5a10da",
   "metadata": {
    "scrolled": true,
    "tags": []
   },
   "outputs": [],
   "source": [
    "# 获取小车线速度和角速度数据\n",
    "# Get the linear velocity and angular velocity data of the car\n",
    "try:\n",
    "    while True:\n",
    "        v, a = bot.get_motion_data()\n",
    "        print(\"speed:\", v, a)\n",
    "        bot.clear_auto_report_data()\n",
    "        time.sleep(.1)\n",
    "except KeyboardInterrupt:\n",
    "    pass"
   ]
  },
  {
   "cell_type": "code",
   "execution_count": null,
   "id": "3fc445d7-016e-421e-a173-38d4e1b5e7a6",
   "metadata": {},
   "outputs": [],
   "source": [
    "# 设置小车运动最小速度限制值（最小值）。默认情况下可不设置。\n",
    "# 举个例子：当设置了线速度限制值为0.1时，下次调用set_car_motion(0.05, 0)函数时，单片机判断0.05小于0.1，自动把输入0.05设置为0.1，如果是set_car_motion(-0.05, 0)，则会把-0.05设置为-0.1。角速度限制值也是同样的功能。\n",
    "# line_limit=[0, 0.20]，angular_limit=[0, 1.00]\n",
    "# forever=True永久保存，=False临时作用。\n",
    "# Set the minimum speed limit value (min) of the car movement.  This parameter is optional by default.  \n",
    "# Here's an example:  When set_CAR_motion (0.05, 0) is called next time, the microcontroller determines that 0.05 is less than 0.1 and automatically sets the input 0.05 to 0.1. If set_car_motion(-0.05, 0) is used,  Sets -0.05 to -0.1.  The angular velocity limit also serves the same function.  \n",
    "# line_limit=[0, 0.20], angular_limit=[0, 1.00]  \n",
    "# forever=True for permanent, =False for temporary.  \n",
    "line_limit = 0.1\n",
    "angular_limit = 0.5\n",
    "bot.set_speed_limit(line_limit, angular_limit, forever=False)"
   ]
  },
  {
   "cell_type": "markdown",
   "id": "ea46e499-ec84-49c8-8c36-ad142f64f03b",
   "metadata": {},
   "source": [
    "## PID相关参数设置"
   ]
  },
  {
   "cell_type": "code",
   "execution_count": null,
   "id": "b3d1e947-8df0-4bbd-b345-c82bad63912c",
   "metadata": {},
   "outputs": [],
   "source": [
    "# PID 参数控制，会影响set_car_motion函数控制小车的运动速度变化情况。默认情况下可不调整。\n",
    "# PID parameter control will affect the set_CAR_motion function to control the speed change of the car.  This parameter is optional by default.\n",
    "kp = 0.1\n",
    "ki = 0.0\n",
    "kd = 4.0\n",
    "bot.set_pid_param(kp, ki, kd, forever=False)"
   ]
  },
  {
   "cell_type": "code",
   "execution_count": null,
   "id": "8576be67-ba27-4b67-b122-3c384b31f9ae",
   "metadata": {},
   "outputs": [],
   "source": [
    "kp, ki, kd = bot.get_motion_pid()\n",
    "print(\"PID:\", kp, ki, kd)"
   ]
  },
  {
   "cell_type": "markdown",
   "id": "316f053d-f1ba-461c-81c1-cc7f07242f46",
   "metadata": {},
   "source": [
    "## 陀螺仪相关参数设置\n",
    "## Set parameters related to gyroscope"
   ]
  },
  {
   "cell_type": "code",
   "execution_count": null,
   "id": "7cd68e36-682d-421f-b8cb-a92b7849c4ad",
   "metadata": {},
   "outputs": [],
   "source": [
    "# 开启陀螺仪调节方向。\n",
    "# 由于小车振动以及陀螺仪自身漂移的问题，所以开启陀螺仪调节方向后，不能长时间一直运动，否则会陀螺仪会对小车运动造成干扰，导致一个轮子快一个轮子慢。\n",
    "# 长时间测试时请将此功能关闭。\n",
    "# enable=True开启，=False关闭。\n",
    "# forever=True永久保存，=False临时作用。此参数最好不要调节，保持默认即可。\n",
    "# Due to the vibration of the car and the drift of the gyroscope itself, it is not allowed to keep moving for a long time after turning on the gyroscope to adjust the direction, \n",
    "# otherwise the gyroscope will cause interference to the car movement, resulting in one wheel faster and the other wheel slower.  \n",
    "# Please turn this feature off for long time test.  \n",
    "# forever=True for permanent, =False for temporary.  This parameter is best not to adjust, keep the default.\n",
    "enable = True\n",
    "bot.set_imu_adjust(enable, forever=False)"
   ]
  },
  {
   "cell_type": "code",
   "execution_count": null,
   "id": "f9c8df89-15b6-41f5-9009-019e51e13a34",
   "metadata": {},
   "outputs": [],
   "source": [
    "# 关闭陀螺仪调节方向。\n",
    "# enable=True开启，=False关闭。\n",
    "# forever=True永久保存，=False临时作用。此参数最好不要调节，保持默认即可。\n",
    "# Turn off gyroscope and adjust direction.   \n",
    "# forever=True for permanent, =False for temporary.  This parameter is best not to adjust, keep the default.\n",
    "enable = False\n",
    "bot.set_imu_adjust(enable, forever=False)"
   ]
  },
  {
   "cell_type": "code",
   "execution_count": null,
   "id": "a06d0739-36c5-49da-aa18-a55914a32059",
   "metadata": {},
   "outputs": [],
   "source": [
    "state = bot.get_imu_state()\n",
    "print(\"imu state:\", state)"
   ]
  },
  {
   "cell_type": "code",
   "execution_count": null,
   "id": "c82dd8fc-ec4e-4589-923e-be32391ec3dd",
   "metadata": {
    "scrolled": true,
    "tags": []
   },
   "outputs": [],
   "source": [
    "# 获取加速度计三轴数据\n",
    "# Get accelerometer triaxial data\n",
    "try:\n",
    "    while True:\n",
    "        a_x, a_y, a_z = bot.get_accelerometer_data()\n",
    "        print(\"acce:\", a_x, a_y, a_z)\n",
    "        time.sleep(.1)\n",
    "except KeyboardInterrupt:\n",
    "    pass"
   ]
  },
  {
   "cell_type": "code",
   "execution_count": null,
   "id": "fdc4a7c3-0b67-430d-a130-5552128c5466",
   "metadata": {
    "scrolled": true,
    "tags": []
   },
   "outputs": [],
   "source": [
    "# 获取陀螺仪三轴数据\n",
    "# Get the data of three axis of gyroscope\n",
    "try:\n",
    "    while True:\n",
    "        g_x, g_y, g_z = bot.get_gyroscope_data()\n",
    "        print(\"gyro:\", g_x, g_y, g_z)\n",
    "        time.sleep(.1)\n",
    "except KeyboardInterrupt:\n",
    "    pass"
   ]
  },
  {
   "cell_type": "markdown",
   "id": "f78d2ac5-2373-4a76-807a-a44cea1ef344",
   "metadata": {},
   "source": [
    "## 恢复出厂配置，重置Flash数据。\n",
    "## Restore factory Settings and reset Flash data"
   ]
  },
  {
   "cell_type": "code",
   "execution_count": null,
   "id": "aedd3227-fe59-4ebe-a1a2-1856e4caded4",
   "metadata": {},
   "outputs": [],
   "source": [
    "# 恢复出厂配置 \n",
    "# Restoring factory Settings\n",
    "bot.reset_flash_value()"
   ]
  },
  {
   "cell_type": "code",
   "execution_count": null,
   "id": "dca91e00-07fb-409d-a4e5-6774d929ad36",
   "metadata": {},
   "outputs": [],
   "source": [
    "# 程序结束后请删除transbot对象，避免在其他程序中使用transbot库造成冲突\n",
    "# After the program is complete, delete the Transbot object to avoid conflicts caused by using the Transbot library in other programs\n",
    "del bot"
   ]
  },
  {
   "cell_type": "code",
   "execution_count": null,
   "id": "53bbeabc-138e-4f46-8f61-cbc037edf646",
   "metadata": {},
   "outputs": [],
   "source": []
  }
 ],
 "metadata": {
  "kernelspec": {
   "display_name": "Python 3",
   "language": "python",
   "name": "python3"
  },
  "language_info": {
   "codemirror_mode": {
    "name": "ipython",
    "version": 3
   },
   "file_extension": ".py",
   "mimetype": "text/x-python",
   "name": "python",
   "nbconvert_exporter": "python",
   "pygments_lexer": "ipython3",
   "version": "3.6.9"
  }
 },
 "nbformat": 4,
 "nbformat_minor": 5
}
