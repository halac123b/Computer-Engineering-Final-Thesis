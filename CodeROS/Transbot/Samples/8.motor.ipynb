{
 "cells": [
  {
   "cell_type": "code",
   "execution_count": null,
   "id": "5ac6e98b-cc7c-4473-af5c-de50da6d88b8",
   "metadata": {},
   "outputs": [],
   "source": [
    "#!/usr/bin/env python3\n",
    "#coding=utf-8\n",
    "import time\n",
    "from Transbot_Lib import Transbot\n",
    "from ipywidgets import interact\n",
    "import ipywidgets as widgets"
   ]
  },
  {
   "cell_type": "code",
   "execution_count": null,
   "id": "a61e4c10-6650-47e0-bd01-9dada327fd21",
   "metadata": {},
   "outputs": [],
   "source": [
    "# 创建Transbot对象 bot\n",
    "# Create Transbot object as bot\n",
    "bot = Transbot()"
   ]
  },
  {
   "cell_type": "code",
   "execution_count": null,
   "id": "649029f5-902c-42aa-a226-bb57cbd5d148",
   "metadata": {},
   "outputs": [],
   "source": [
    "# 控制电机运动 Control motor movement\n",
    "def run_motor(A, B):\n",
    "    # 为了避免电机死区，这里增加了判断条件。\n",
    "    # In order to avoid motor dead zone, the judgment condition is added here.\n",
    "    if abs(A) >= 20 or abs(B) >= 20: \n",
    "        bot.set_motor(1, A)\n",
    "        bot.set_motor(2, B)\n",
    "        return A, B\n",
    "    else:\n",
    "        bot.set_motor(1, 0)\n",
    "        bot.set_motor(2, 0)\n",
    "        return 0, 0\n",
    "    \n",
    "\n",
    "# 创建两个滑块来控制舵机云台\n",
    "# Create two sliders to control the steering head\n",
    "interact(run_motor, A=widgets.IntSlider(min=-100,max=100,step=1,value=0), \\\n",
    "         B=widgets.IntSlider(min=-100,max=100,step=1,value=0));\n"
   ]
  },
  {
   "cell_type": "code",
   "execution_count": null,
   "id": "ce20522b-9a67-46d2-9fe4-b52b9256511e",
   "metadata": {},
   "outputs": [],
   "source": [
    "# 停止运动\n",
    "# Stop motion\n",
    "bot.set_motor(1, 0)\n",
    "bot.set_motor(2, 0)"
   ]
  },
  {
   "cell_type": "code",
   "execution_count": null,
   "id": "dca91e00-07fb-409d-a4e5-6774d929ad36",
   "metadata": {},
   "outputs": [],
   "source": [
    "# 程序结束后请删除transbot对象，避免在其他程序中使用transbot库造成冲突\n",
    "# After the program is complete, delete the Transbot object to avoid conflicts caused by using the Transbot library in other programs\n",
    "del bot"
   ]
  },
  {
   "cell_type": "code",
   "execution_count": null,
   "id": "295cb2cf-b1d5-458c-94f5-e56ad9c3246e",
   "metadata": {},
   "outputs": [],
   "source": []
  }
 ],
 "metadata": {
  "kernelspec": {
   "display_name": "Python 3",
   "language": "python",
   "name": "python3"
  },
  "language_info": {
   "codemirror_mode": {
    "name": "ipython",
    "version": 3
   },
   "file_extension": ".py",
   "mimetype": "text/x-python",
   "name": "python",
   "nbconvert_exporter": "python",
   "pygments_lexer": "ipython3",
   "version": "3.6.9"
  }
 },
 "nbformat": 4,
 "nbformat_minor": 5
}
