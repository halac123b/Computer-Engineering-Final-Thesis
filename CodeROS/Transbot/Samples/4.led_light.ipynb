{
 "cells": [
  {
   "cell_type": "code",
   "execution_count": null,
   "id": "6dedfc5b-3989-4f87-922c-59874fda0770",
   "metadata": {},
   "outputs": [],
   "source": [
    "#!/usr/bin/env python3\n",
    "#coding=utf-8\n",
    "import time\n",
    "from Transbot_Lib import Transbot\n",
    "\n",
    "# 导入控件类相关的库\n",
    "# Import the libraries associated with the control class\n",
    "from ipywidgets import interact\n",
    "import ipywidgets as widgets"
   ]
  },
  {
   "cell_type": "code",
   "execution_count": null,
   "id": "55d5545c-818f-4da6-8e51-ea10d7d1b1d4",
   "metadata": {},
   "outputs": [],
   "source": [
    "# 创建Transbot对象 bot\n",
    "# Create Transbot object as bot\n",
    "bot = Transbot()"
   ]
  },
  {
   "cell_type": "code",
   "execution_count": null,
   "id": "74be1a81-9797-40b5-b5c8-2d3875df92eb",
   "metadata": {},
   "outputs": [],
   "source": [
    "# light控制亮度，light = [0, 100], 0为熄灭，100为最亮。\n",
    "# 控制探照灯以最大亮度开启\n",
    "# Light Controls brightness. Light = [0, 100], 0 indicates off and 100 indicates brightest.  \n",
    "# Control searchlight to turn on at maximum brightness\n",
    "light = 100\n",
    "bot.set_floodlight(light)\n",
    "time.sleep(1)"
   ]
  },
  {
   "cell_type": "code",
   "execution_count": null,
   "id": "5d62330c-47c8-43f8-94d3-aae2cb8dbfc5",
   "metadata": {},
   "outputs": [],
   "source": [
    "# 控制探照灯熄灭\n",
    "# Control searchlight to go out\n",
    "light = 0\n",
    "bot.set_floodlight(light)\n",
    "time.sleep(1)"
   ]
  },
  {
   "cell_type": "code",
   "execution_count": null,
   "id": "c2ff25a5-80a9-4601-8c6c-1196e17496d1",
   "metadata": {},
   "outputs": [],
   "source": [
    "# 新建一个滑动条来调节LED补光灯的亮度\n",
    "# Create a new slider to adjust the brightness of the LED fill light\n",
    "def adjust_brightness(brightness):\n",
    "    bot.set_floodlight(brightness)\n",
    "    return brightness\n",
    "interact(adjust_brightness, brightness=widgets.IntSlider(min=0,max=100,step=1,value=0));"
   ]
  },
  {
   "cell_type": "code",
   "execution_count": null,
   "id": "caafcc3c-58f5-43d3-b1c7-34126cd0ecf9",
   "metadata": {},
   "outputs": [],
   "source": [
    "# 循环实现呼吸灯效果\n",
    "# Cycle to achieve breathing lamp effect\n",
    "def breathing():\n",
    "    while True:\n",
    "        for i in range(2):\n",
    "            for j in range(101):\n",
    "                # Brightness gradually increases, even operation, singular does not run\n",
    "                if i == 0 and j % 2 == 0: # 亮度逐渐增加，双数运行，单数不运行\n",
    "                    bot.set_floodlight(j)\n",
    "                # Brightness gradually decreases, even operation, singular does not run\n",
    "                elif i == 1 and j % 2 == 0: # 亮度逐渐减少，双数运行，单数不运行\n",
    "                    bot.set_floodlight(100 - j)\n",
    "                time.sleep(.01)"
   ]
  },
  {
   "cell_type": "code",
   "execution_count": null,
   "id": "b0d6af87-8fe8-40b6-b8fc-741cd8dffe9b",
   "metadata": {},
   "outputs": [],
   "source": [
    "# 捕获按键退出程序。\n",
    "# Capture key exit program.\n",
    "try:\n",
    "    breathing()\n",
    "except KeyboardInterrupt:\n",
    "    print(\" Program closed! \")\n",
    "    pass"
   ]
  },
  {
   "cell_type": "code",
   "execution_count": null,
   "id": "fac9dbc2-07bb-4889-87d0-2f319a592343",
   "metadata": {},
   "outputs": [],
   "source": [
    "# 程序结束后请删除transbot对象，避免在其他程序中使用transbot库造成冲突\n",
    "# After the program is complete, delete the Transbot object to avoid conflicts caused by using the Transbot library in other programs\n",
    "del bot"
   ]
  },
  {
   "cell_type": "code",
   "execution_count": null,
   "id": "65e59e20-1c7f-47e7-b9e7-7a28b08ec10f",
   "metadata": {},
   "outputs": [],
   "source": []
  }
 ],
 "metadata": {
  "kernelspec": {
   "display_name": "Python 3",
   "language": "python",
   "name": "python3"
  },
  "language_info": {
   "codemirror_mode": {
    "name": "ipython",
    "version": 3
   },
   "file_extension": ".py",
   "mimetype": "text/x-python",
   "name": "python",
   "nbconvert_exporter": "python",
   "pygments_lexer": "ipython3",
   "version": "3.6.9"
  }
 },
 "nbformat": 4,
 "nbformat_minor": 5
}
