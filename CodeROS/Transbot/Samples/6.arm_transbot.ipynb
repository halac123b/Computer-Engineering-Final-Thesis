{
 "cells": [
  {
   "cell_type": "code",
   "execution_count": null,
   "id": "5ac6e98b-cc7c-4473-af5c-de50da6d88b8",
   "metadata": {},
   "outputs": [],
   "source": [
    "#!/usr/bin/env python3\n",
    "#coding=utf-8\n",
    "import time\n",
    "from Transbot_Lib import Transbot\n",
    "from ipywidgets import interact\n",
    "import ipywidgets as widgets"
   ]
  },
  {
   "cell_type": "code",
   "execution_count": null,
   "id": "a61e4c10-6650-47e0-bd01-9dada327fd21",
   "metadata": {},
   "outputs": [],
   "source": [
    "# 创建Transbot对象 bot\n",
    "# Create Transbot object as bot\n",
    "bot = Transbot()"
   ]
  },
  {
   "cell_type": "code",
   "execution_count": null,
   "id": "226ac62a-bc83-4325-91a2-d8e38753d027",
   "metadata": {},
   "outputs": [],
   "source": [
    "# 启动接收数据 \n",
    "# Start receiving data\n",
    "bot.create_receive_threading()"
   ]
  },
  {
   "cell_type": "code",
   "execution_count": null,
   "id": "6a8d5e1b-b3b8-4bd2-b8c7-9e989c7870c9",
   "metadata": {},
   "outputs": [],
   "source": [
    "# 当前关节ID号\n",
    "# ID of the current joint\n",
    "servo_id = 9\n",
    "\n",
    "# 控制机械臂关节运动\n",
    "# Control the joint movement of the manipulator\n",
    "def arm_servo(s_angle):\n",
    "    bot.set_uart_servo_angle(servo_id, s_angle)\n",
    "\n",
    "# 创建一个滑块来控制机械臂的某个关节 \n",
    "# Create a slider to control one of the joints of the manipulator\n",
    "if servo_id == 7:\n",
    "    interact(arm_servo, s_angle=widgets.IntSlider(min=0,max=225,step=1,value=180));\n",
    "elif servo_id == 8:\n",
    "    interact(arm_servo, s_angle=widgets.IntSlider(min=30,max=270,step=1,value=180));\n",
    "elif servo_id == 9:\n",
    "    interact(arm_servo, s_angle=widgets.IntSlider(min=30,max=180,step=1,value=180));"
   ]
  },
  {
   "cell_type": "code",
   "execution_count": null,
   "id": "1d677caa-5d52-45e8-bdb2-66ae966abb1c",
   "metadata": {},
   "outputs": [],
   "source": [
    "# 读取当前机械臂关节的角度，读取的角度值和设置的角度值可能存在1-2度偏差。\n",
    "# 读取错误返回-1\n",
    "# When reading the Angle of the current manipulator joint, there may be 1-2 degrees deviation between the Angle value read and the Angle value set.  \n",
    "# Read error returns -1  \n",
    "read_servo = bot.get_uart_servo_angle(servo_id)\n",
    "print(\"read angle:\", servo_id, read_servo)"
   ]
  },
  {
   "cell_type": "code",
   "execution_count": null,
   "id": "649029f5-902c-42aa-a226-bb57cbd5d148",
   "metadata": {},
   "outputs": [],
   "source": [
    "# 一次控制机械臂的三个关节 \n",
    "# Control the three joints of the manipulator at one time\n",
    "def arm_servo(s7, s8, s9):\n",
    "    bot.set_uart_servo_angle_array(s7, s8, s9)\n",
    "    return s7, s8, s9\n",
    "\n",
    "# 创建三个滑块来控制机械臂的三个关节 \n",
    "# Create three sliders to control the three joints of the manipulator\n",
    "interact(arm_servo, s7=widgets.IntSlider(min=0,max=225,step=1,value=180), \\\n",
    "         s8=widgets.IntSlider(min=30,max=270,step=1,value=180), \\\n",
    "         s9=widgets.IntSlider(min=30,max=180,step=1,value=180));\n"
   ]
  },
  {
   "cell_type": "code",
   "execution_count": null,
   "id": "2bd8f4b7-fd64-4fe7-a56d-9f996aaacbf5",
   "metadata": {},
   "outputs": [],
   "source": [
    "# 一次性读取三个舵机关节角度，读取的角度值和设置的角度值可能存在1-2度偏差。\n",
    "# 读取正确返回三个舵机的角度[xx, xx, xx]，如果某个舵机错误则那一位为-1\n",
    "# Read three steering gear joint angles at one time, and there may be 1-2 degree deviation between the Angle values read and set.\n",
    "# Read the correct return Angle of three steering gear [xx, XX, xx], if one steering gear is wrong, that one is -1\n",
    "read_array = bot.get_uart_servo_angle_array()\n",
    "print(\"read array:\", read_array)"
   ]
  },
  {
   "cell_type": "code",
   "execution_count": null,
   "id": "fa69f7db-8234-40a7-baf3-9e44449e3f0b",
   "metadata": {},
   "outputs": [],
   "source": [
    "# 关闭扭矩力，可以用手转动舵机关节，但命令无法控制转动\n",
    "# With torque force off, the steering gear joint can be turned by hand, but command cannot control rotation\n",
    "bot.set_uart_servo_torque(False)"
   ]
  },
  {
   "cell_type": "code",
   "execution_count": null,
   "id": "df559693-8496-4f30-995c-c582602445e2",
   "metadata": {},
   "outputs": [],
   "source": [
    "# 打开扭矩力，命令可以控制转动，不可以用手转动舵机关节\n",
    "# Turn on torque force, command can control rotation, can not turn steering gear joint by hand\n",
    "bot.set_uart_servo_torque(True)"
   ]
  },
  {
   "cell_type": "code",
   "execution_count": null,
   "id": "dca91e00-07fb-409d-a4e5-6774d929ad36",
   "metadata": {},
   "outputs": [],
   "source": [
    "# 程序结束后请删除transbot对象，避免在其他程序中使用transbot库造成冲突\n",
    "# After the program is complete, delete the Transbot object to avoid conflicts caused by using the Transbot library in other programs\n",
    "del bot"
   ]
  },
  {
   "cell_type": "code",
   "execution_count": null,
   "id": "14d28496-bea5-46ed-ba7c-066a37ba0ae0",
   "metadata": {},
   "outputs": [],
   "source": []
  }
 ],
 "metadata": {
  "kernelspec": {
   "display_name": "Python 3",
   "language": "python",
   "name": "python3"
  },
  "language_info": {
   "codemirror_mode": {
    "name": "ipython",
    "version": 3
   },
   "file_extension": ".py",
   "mimetype": "text/x-python",
   "name": "python",
   "nbconvert_exporter": "python",
   "pygments_lexer": "ipython3",
   "version": "3.6.9"
  }
 },
 "nbformat": 4,
 "nbformat_minor": 5
}
